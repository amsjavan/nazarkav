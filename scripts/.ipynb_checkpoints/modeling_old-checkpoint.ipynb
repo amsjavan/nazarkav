{
 "cells": [
  {
   "cell_type": "code",
   "execution_count": 1,
   "metadata": {
    "collapsed": true
   },
   "outputs": [],
   "source": [
    "%matplotlib inline\n",
    "from sklearn.feature_extraction.text import CountVectorizer\n",
    "from sklearn.feature_extraction.text import TfidfVectorizer\n",
    "from sklearn.feature_selection import SelectKBest\n",
    "from sklearn.feature_selection import chi2\n",
    "from sklearn.naive_bayes import MultinomialNB\n",
    "from sklearn import cross_validation as cv\n",
    "from sklearn import svm\n",
    "import pandas as pd\n",
    "import numpy as np\n",
    "import hazm\n",
    "import os"
   ]
  },
  {
   "cell_type": "code",
   "execution_count": null,
   "metadata": {
    "collapsed": true
   },
   "outputs": [],
   "source": [
    "import nazarkav as nk\n",
    "data_path = os.path.join(nk.__path__[0], 'data')"
   ]
  },
  {
   "cell_type": "code",
   "execution_count": null,
   "metadata": {
    "collapsed": true
   },
   "outputs": [],
   "source": [
    "cache = {}\n",
    "hotel_pol = pd.read_csv(os.path.join(data_path, 'hotel-polarity.tsv'), \n",
    "                        sep='\\t')\n",
    "hotel_comment = hotel_pol['comment'].tolist()"
   ]
  },
  {
   "cell_type": "code",
   "execution_count": null,
   "metadata": {
    "collapsed": false
   },
   "outputs": [],
   "source": [
    "# # B_BOW if tf was False\n",
    "# # TF_BOW if tf was True\n",
    "# def bow(tf,ng=(1,1)):\n",
    "#     def _bow(maxf=None):\n",
    "#         vectorizer = CountVectorizer(\n",
    "#             ngram_range=ng,\n",
    "#             binary=not tf,\n",
    "#             tokenizer=nk.Preprocessor().tokenize,\n",
    "#             preprocessor=nk.Preprocessor().clean,\n",
    "#             max_features=maxf)\n",
    "#         return vectorizer.fit_transform(hotel_comment) \n",
    "#     return _bow\n",
    "\n",
    "# def b_bow(ng=(1,1)): return bow(False, ng)\n",
    "# def tf_bow(ng=(1,1)): return bow(True, ng)\n",
    "# def tfidf_bow(ng=(1,1)):\n",
    "#     def _bow(maxf=None):\n",
    "#         vectorizer = TfidfVectorizer(\n",
    "#             ngram_range=ng,\n",
    "#             tokenizer=nk.Preprocessor().tokenize,\n",
    "#             preprocessor=nk.Preprocessor().clean,\n",
    "#             max_features=maxf)\n",
    "#         return vectorizer.fit_transform(hotel_comment) \n",
    "#     return _bow"
   ]
  },
  {
   "cell_type": "code",
   "execution_count": null,
   "metadata": {
    "collapsed": true
   },
   "outputs": [],
   "source": []
  },
  {
   "cell_type": "code",
   "execution_count": 63,
   "metadata": {
    "collapsed": true
   },
   "outputs": [],
   "source": [
    "def binary_bow(maxf=None, ng=(1,1)):\n",
    "    vectorizer = CountVectorizer(\n",
    "        ngram_range=ng,\n",
    "        binary=True,\n",
    "        tokenizer=nk.Preprocessor().tokenize,\n",
    "        preprocessor=nk.Preprocessor().clean,\n",
    "        max_features=maxf)\n",
    "    return vectorizer.fit_transform(hotel_comment) "
   ]
  },
  {
   "cell_type": "code",
   "execution_count": 65,
   "metadata": {
    "collapsed": true
   },
   "outputs": [],
   "source": [
    "def tf_bow(maxf=None, ng=(1,1)):\n",
    "    vectorizer = CountVectorizer(\n",
    "        ngram_range=ng,\n",
    "        tokenizer=nk.Preprocessor().tokenize,\n",
    "        preprocessor=nk.Preprocessor().clean,\n",
    "        max_features=maxf)\n",
    "    return vectorizer.fit_transform(hotel_comment) "
   ]
  },
  {
   "cell_type": "code",
   "execution_count": 66,
   "metadata": {
    "collapsed": true
   },
   "outputs": [],
   "source": [
    "def tfidf_bow(maxf=None, ng=(1,1)):\n",
    "    vectorizer = TfidfVectorizer(\n",
    "        ngram_range=ng,\n",
    "        binary=True,\n",
    "        tokenizer=nk.Preprocessor().tokenize,\n",
    "        preprocessor=nk.Preprocessor().clean,\n",
    "        max_features=maxf)\n",
    "    return vectorizer.fit_transform(hotel_comment) "
   ]
  },
  {
   "cell_type": "code",
   "execution_count": null,
   "metadata": {
    "collapsed": false
   },
   "outputs": [],
   "source": [
    "max_features = [100, 300, 500, 1000, 3000, 5000, 7000, 10000, 12000, 13000, 15000, 17000, 20000, 25000, 30000]\n",
    "preprocess = [\n",
    "    (b_bow(),'B_BOW'), \n",
    "    (tf_bow(),'TF_BOW'), \n",
    "    (tf_bow(ng=(1,2)),'TF_BOW+2gram'), \n",
    "    (tf_bow(ng=(1,3)),'TF_BOW+3gram'),\n",
    "    (tfidf_bow(),'TFIDF_BOW'),\n",
    "    (tfidf_bow(ng=(1,2)),'TFIDF_BOW+2gram'),\n",
    "    (tfidf_bow(ng=(1,3)),'TFIDF_BOW+3gram')]"
   ]
  },
  {
   "cell_type": "code",
   "execution_count": null,
   "metadata": {
    "collapsed": false
   },
   "outputs": [],
   "source": [
    "# Return dataframe\n",
    "def make_models(clf, is_cache=True):\n",
    "    acc_matrix = []\n",
    "    index = []\n",
    "    for p, name in preprocess:\n",
    "        index.append(name)\n",
    "        row = []\n",
    "        for m in max_features:\n",
    "            if cache.get((name,m),None) is None or not is_cache:\n",
    "                acc = cv.cross_val_score( clf, p(m), hotel_pol[\"c\"].tolist(), cv=5).mean()\n",
    "                cache[name,m]= acc\n",
    "            row.append(cache[name,m])\n",
    "        acc_matrix.append(row)\n",
    "    df = pd.DataFrame(acc_matrix,index=index,columns=max_features)\n",
    "    nk.dataframe2png(df, height=200)\n",
    "    return df"
   ]
  },
  {
   "cell_type": "code",
   "execution_count": null,
   "metadata": {
    "collapsed": true
   },
   "outputs": [],
   "source": [
    "max_features = [100, 300]\n",
    "bow = []\n",
    "ngram_range = []\n",
    "def make_models2(clf, is_cache=True):"
   ]
  },
  {
   "cell_type": "code",
   "execution_count": null,
   "metadata": {
    "collapsed": false
   },
   "outputs": [],
   "source": [
    "#df = make_models(MultinomialNB())"
   ]
  },
  {
   "cell_type": "code",
   "execution_count": null,
   "metadata": {
    "collapsed": false
   },
   "outputs": [],
   "source": [
    "# %matplotlib qt\n",
    "# df.T.plot()"
   ]
  },
  {
   "cell_type": "code",
   "execution_count": 18,
   "metadata": {
    "collapsed": false
   },
   "outputs": [],
   "source": [
    "df = pd.DataFrame(columns=['max_features', 'bow', 'ngram_range', 'naive_bayes'])\n"
   ]
  }
 ],
 "metadata": {
  "kernelspec": {
   "display_name": "Python 3",
   "language": "python",
   "name": "python3"
  },
  "language_info": {
   "codemirror_mode": {
    "name": "ipython",
    "version": 3
   },
   "file_extension": ".py",
   "mimetype": "text/x-python",
   "name": "python",
   "nbconvert_exporter": "python",
   "pygments_lexer": "ipython3",
   "version": "3.4.3"
  }
 },
 "nbformat": 4,
 "nbformat_minor": 0
}
