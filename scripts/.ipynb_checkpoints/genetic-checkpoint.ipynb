{
 "cells": [
  {
   "cell_type": "code",
   "execution_count": null,
   "metadata": {
    "collapsed": true
   },
   "outputs": [],
   "source": [
    "%matplotlib inline\n",
    "from sklearn.feature_extraction.text import CountVectorizer\n",
    "from sklearn.feature_extraction.text import TfidfVectorizer\n",
    "from sklearn.feature_selection import SelectKBest\n",
    "from sklearn.feature_selection import chi2\n",
    "from sklearn import cross_validation as cv\n",
    "from sklearn import svm\n",
    "import pandas as pd\n",
    "import numpy as np\n",
    "import itertools\n",
    "import pickle\n",
    "import time\n",
    "import hazm\n",
    "import os\n",
    "import gc\n",
    "from IPython import display\n"
   ]
  },
  {
   "cell_type": "code",
   "execution_count": null,
   "metadata": {
    "collapsed": true
   },
   "outputs": [],
   "source": [
    "from sklearn import tree\n",
    "from sklearn.naive_bayes import MultinomialNB\n",
    "from sklearn.ensemble import RandomForestClassifier\n",
    "from sklearn.neighbors import KNeighborsClassifier\n",
    "from sklearn.linear_model import LogisticRegression"
   ]
  },
  {
   "cell_type": "code",
   "execution_count": null,
   "metadata": {
    "collapsed": true
   },
   "outputs": [],
   "source": [
    "import nazarkav as nk\n",
    "data_path = os.path.join(nk.__path__[0], 'data')"
   ]
  },
  {
   "cell_type": "code",
   "execution_count": null,
   "metadata": {
    "collapsed": true
   },
   "outputs": [],
   "source": [
    "# reset cache file\n",
    "def reset_cache():\n",
    "    pickle.dump( {}, open( \"cache.p\", \"wb\" ) )"
   ]
  },
  {
   "cell_type": "code",
   "execution_count": null,
   "metadata": {
    "collapsed": true
   },
   "outputs": [],
   "source": [
    "hotel_pol = pd.read_csv(os.path.join(data_path, 'hotel-polarity.tsv'), \n",
    "                        sep='\\t')\n",
    "hotel_comment = hotel_pol['comment'].tolist()"
   ]
  },
  {
   "cell_type": "code",
   "execution_count": null,
   "metadata": {
    "collapsed": true
   },
   "outputs": [],
   "source": [
    "vectorizer = CountVectorizer(\n",
    "    ngram_range=(1,3),\n",
    "    binary=True,\n",
    "    tokenizer=nk.Preprocessor().tokenize,\n",
    "    preprocessor=nk.Preprocessor().clean)\n",
    "term_doc = vectorizer.fit_transform(hotel_comment)"
   ]
  },
  {
   "cell_type": "code",
   "execution_count": null,
   "metadata": {
    "collapsed": false
   },
   "outputs": [],
   "source": [
    "import copy\n",
    "import random\n",
    "from math import ceil\n",
    "import matplotlib.pyplot as plt\n",
    "import time\n",
    "import numpy\n",
    "\n",
    "class Individual(object):\n",
    "    def __init__(self, pos, cost=None):\n",
    "        self.pos = pos\n",
    "        self.cost = cost\n",
    "\n",
    "def crossover(parent1, parent2, cross_point=None):\n",
    "    size = len(parent1)\n",
    "    if cross_point is None:\n",
    "        cross_point = random.randint(1, size - 1)\n",
    "    child1 = parent1[:cross_point]\n",
    "    child1.extend(parent2[cross_point:])\n",
    "\n",
    "    child2 = parent2[:cross_point]\n",
    "    child2.extend(parent1[cross_point:])\n",
    "\n",
    "    return child1, child2\n",
    "\n",
    "\n",
    "# Change the chromosome object instead of return new object\n",
    "def mutate(chromosome, mu=0.0001):\n",
    "    size = len(chromosome)\n",
    "    ngen = ceil(mu * size)\n",
    "    for _ in range(ngen):\n",
    "        mutation_point = random.randint(1, size - 1)\n",
    "        chromosome[mutation_point] = 1 - chromosome[mutation_point]\n",
    "\n",
    "class BinaryGeneticAlgorithm(object):\n",
    "    def __init__(self, cost_function, max_iter=100, nvar=300, npop=50, pc=0.7, pm=0.3, mu=0.01 ):\n",
    "        self.cost_function = cost_function\n",
    "        self.max_iteration = max_iter\n",
    "        self.nvar = nvar\n",
    "        self.npop = npop\n",
    "\n",
    "        self.pc = pc  # probability of population for crossover( number of parent for crossover)\n",
    "\n",
    "        self.pm = pm\n",
    "        self.mu = mu # mutation rate per chromosome\n",
    "\n",
    "\n",
    "    def run(self):\n",
    "        # Initialize population\n",
    "        pop = []\n",
    "        for i in range(self.npop):\n",
    "            pos = [random.randint(0, 1) for _ in range(self.nvar)]\n",
    "            pop.append(Individual(pos, self.cost_function(pos)))\n",
    "\n",
    "        pop = sorted(pop, key=lambda x: x.cost)\n",
    "        best_sol = pop[0]\n",
    "\n",
    "        # Initialize plot\n",
    "        fig = plt.figure(figsize=(13,10))\n",
    "        plt.title('GA Optimization')\n",
    "        plt.xlabel('Iteration')\n",
    "        plt.ylabel('Cost')\n",
    "        plt.ion()\n",
    "\n",
    "        best_costs = []\n",
    "        # Main Loop\n",
    "        for it in range(self.max_iteration):\n",
    "\n",
    "            # ------crossover------\n",
    "            nc = 2 * round(self.pc * self.npop / 2)  # The number of parent must be even\n",
    "            cpop = pop[:nc]\n",
    "            children = []\n",
    "            # iterating over every two element\n",
    "            for _ in range(nc):\n",
    "                # select parents randomly\n",
    "                p1 = cpop[random.randint(0, len(cpop) - 1)]\n",
    "                p2 = cpop[random.randint(0, len(cpop) - 1)]\n",
    "\n",
    "                pair_child_pos = crossover(p1.pos, p2.pos)\n",
    "                new_child1 = Individual(pair_child_pos[0], self.cost_function(pair_child_pos[0]))\n",
    "                new_child2 = Individual(pair_child_pos[1], self.cost_function(pair_child_pos[1]))\n",
    "                children.append(new_child1)\n",
    "                children.append(new_child2)\n",
    "\n",
    "            # --------mutation-------\n",
    "            nm = round(self.pm * self.npop)  # number of mutation\n",
    "            mpop = pop[:nm]\n",
    "            # mutation over children\n",
    "            for parent in mpop:\n",
    "                mutate(parent.pos, self.mu)\n",
    "                parent.cost = self.cost_function(parent.pos)\n",
    "\n",
    "            # merge and sort\n",
    "            pop = pop + mpop + children + [copy.copy(best_sol)]\n",
    "            pop = sorted(pop, key=lambda x: x.cost)\n",
    "            pop = pop[:self.npop]\n",
    "            \n",
    "            # copy to prevent from editing bestPop in the loop\n",
    "            # best_sol = copy.copy(min(min(pop, key=lambda x: x.cost), best_sol, key=lambda x: x.cost))\n",
    "            best_sol = pop[0]\n",
    "            best_costs.append(best_sol.cost)\n",
    "\n",
    "            # draw chart result\n",
    "            plt.scatter(it, best_sol.cost)\n",
    "            \n",
    "            if 'txt' in locals():\n",
    "                txt.remove()\n",
    "            txt = fig.text(0, 1, \"accuracy = {0:.4%}\".format(1-best_sol.cost), fontsize=15)\n",
    "#             txt = fig.text(0, 1, str(len(pop)), fontsize=15)\n",
    "            display.clear_output(wait=True)\n",
    "            \n",
    "            display.display(plt.gcf())\n",
    "            \n",
    "            # Result\n",
    "#             print('best cost in iter {0} : best cost = {1} , best pos = {2}'.format(it, best_sol.cost, \n",
    "#                                                                                     best_sol.pos\n",
    "#                                                                                    []\n",
    "#                                                                                    ))\n",
    "\n",
    "        print(best_sol.pos)\n",
    "        # problem.show_hub(best_sol.pos)\n",
    "        plt.plot(best_costs, linewidth=3)\n",
    "        plt.show()"
   ]
  },
  {
   "cell_type": "code",
   "execution_count": null,
   "metadata": {
    "collapsed": false
   },
   "outputs": [],
   "source": [
    "\n",
    "labels = hotel_pol[\"c\"].tolist()\n",
    "new_term_doc = SelectKBest(chi2, k=40000).fit_transform(\n",
    "                    term_doc, labels)\n",
    "def cost(index):\n",
    "    c = np.array(index).nonzero()[0]\n",
    "    acc = cv.cross_val_score(MultinomialNB(), \n",
    "                             new_term_doc[:,c], \n",
    "                             labels, \n",
    "                             cv=5).mean()\n",
    "    return 1 - acc\n"
   ]
  },
  {
   "cell_type": "code",
   "execution_count": null,
   "metadata": {
    "collapsed": false
   },
   "outputs": [],
   "source": [
    "myga = BinaryGeneticAlgorithm(cost, max_iter=100, nvar=40000, npop=300, pc=0.7, mu=0.003)\n",
    "myga.run()"
   ]
  },
  {
   "cell_type": "code",
   "execution_count": null,
   "metadata": {
    "collapsed": true
   },
   "outputs": [],
   "source": []
  }
 ],
 "metadata": {
  "kernelspec": {
   "display_name": "Python 3",
   "language": "python",
   "name": "python3"
  },
  "language_info": {
   "codemirror_mode": {
    "name": "ipython",
    "version": 3
   },
   "file_extension": ".py",
   "mimetype": "text/x-python",
   "name": "python",
   "nbconvert_exporter": "python",
   "pygments_lexer": "ipython3",
   "version": "3.4.3"
  }
 },
 "nbformat": 4,
 "nbformat_minor": 0
}
